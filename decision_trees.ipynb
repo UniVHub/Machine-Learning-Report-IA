{
  "cells": [
    {
      "cell_type": "markdown",
      "metadata": {
        "id": "MjsdegUEKubN"
      },
      "source": [
        "# Decision trees to predict the CO2 emissions of a car"
      ]
    },
    {
      "cell_type": "markdown",
      "metadata": {},
      "source": [
        "## Libraries installation"
      ]
    },
    {
      "cell_type": "code",
      "execution_count": 2264,
      "metadata": {},
      "outputs": [
        {
          "name": "stdout",
          "output_type": "stream",
          "text": [
            "Requirement already satisfied: numpy in c:\\users\\user\\appdata\\local\\programs\\python\\python312\\lib\\site-packages (1.26.4)\n",
            "Note: you may need to restart the kernel to use updated packages.\n",
            "Requirement already satisfied: pandas in c:\\users\\user\\appdata\\local\\programs\\python\\python312\\lib\\site-packages (2.2.2)\n",
            "Requirement already satisfied: numpy>=1.26.0 in c:\\users\\user\\appdata\\local\\programs\\python\\python312\\lib\\site-packages (from pandas) (1.26.4)\n",
            "Requirement already satisfied: python-dateutil>=2.8.2 in c:\\users\\user\\appdata\\roaming\\python\\python312\\site-packages (from pandas) (2.9.0.post0)\n",
            "Requirement already satisfied: pytz>=2020.1 in c:\\users\\user\\appdata\\local\\programs\\python\\python312\\lib\\site-packages (from pandas) (2024.1)\n",
            "Requirement already satisfied: tzdata>=2022.7 in c:\\users\\user\\appdata\\local\\programs\\python\\python312\\lib\\site-packages (from pandas) (2024.1)\n",
            "Requirement already satisfied: six>=1.5 in c:\\users\\user\\appdata\\local\\programs\\python\\python312\\lib\\site-packages (from python-dateutil>=2.8.2->pandas) (1.16.0)\n",
            "Note: you may need to restart the kernel to use updated packages.\n",
            "Requirement already satisfied: scikit-learn in c:\\users\\user\\appdata\\local\\programs\\python\\python312\\lib\\site-packages (1.5.0)\n",
            "Requirement already satisfied: numpy>=1.19.5 in c:\\users\\user\\appdata\\local\\programs\\python\\python312\\lib\\site-packages (from scikit-learn) (1.26.4)\n",
            "Requirement already satisfied: scipy>=1.6.0 in c:\\users\\user\\appdata\\local\\programs\\python\\python312\\lib\\site-packages (from scikit-learn) (1.13.1)\n",
            "Requirement already satisfied: joblib>=1.2.0 in c:\\users\\user\\appdata\\local\\programs\\python\\python312\\lib\\site-packages (from scikit-learn) (1.4.2)\n",
            "Requirement already satisfied: threadpoolctl>=3.1.0 in c:\\users\\user\\appdata\\local\\programs\\python\\python312\\lib\\site-packages (from scikit-learn) (3.5.0)\n",
            "Note: you may need to restart the kernel to use updated packages.\n",
            "Requirement already satisfied: matplotlib in c:\\users\\user\\appdata\\local\\programs\\python\\python312\\lib\\site-packages (3.9.0)\n",
            "Requirement already satisfied: contourpy>=1.0.1 in c:\\users\\user\\appdata\\local\\programs\\python\\python312\\lib\\site-packages (from matplotlib) (1.2.1)\n",
            "Requirement already satisfied: cycler>=0.10 in c:\\users\\user\\appdata\\local\\programs\\python\\python312\\lib\\site-packages (from matplotlib) (0.12.1)\n",
            "Requirement already satisfied: fonttools>=4.22.0 in c:\\users\\user\\appdata\\local\\programs\\python\\python312\\lib\\site-packages (from matplotlib) (4.53.0)\n",
            "Requirement already satisfied: kiwisolver>=1.3.1 in c:\\users\\user\\appdata\\local\\programs\\python\\python312\\lib\\site-packages (from matplotlib) (1.4.5)\n",
            "Requirement already satisfied: numpy>=1.23 in c:\\users\\user\\appdata\\local\\programs\\python\\python312\\lib\\site-packages (from matplotlib) (1.26.4)\n",
            "Requirement already satisfied: packaging>=20.0 in c:\\users\\user\\appdata\\roaming\\python\\python312\\site-packages (from matplotlib) (24.0)\n",
            "Requirement already satisfied: pillow>=8 in c:\\users\\user\\appdata\\local\\programs\\python\\python312\\lib\\site-packages (from matplotlib) (10.3.0)\n",
            "Requirement already satisfied: pyparsing>=2.3.1 in c:\\users\\user\\appdata\\local\\programs\\python\\python312\\lib\\site-packages (from matplotlib) (3.1.2)\n",
            "Requirement already satisfied: python-dateutil>=2.7 in c:\\users\\user\\appdata\\roaming\\python\\python312\\site-packages (from matplotlib) (2.9.0.post0)\n",
            "Requirement already satisfied: six>=1.5 in c:\\users\\user\\appdata\\local\\programs\\python\\python312\\lib\\site-packages (from python-dateutil>=2.7->matplotlib) (1.16.0)\n",
            "Note: you may need to restart the kernel to use updated packages.\n",
            "Requirement already satisfied: seaborn in c:\\users\\user\\appdata\\local\\programs\\python\\python312\\lib\\site-packages (0.13.2)\n",
            "Requirement already satisfied: numpy!=1.24.0,>=1.20 in c:\\users\\user\\appdata\\local\\programs\\python\\python312\\lib\\site-packages (from seaborn) (1.26.4)\n",
            "Requirement already satisfied: pandas>=1.2 in c:\\users\\user\\appdata\\local\\programs\\python\\python312\\lib\\site-packages (from seaborn) (2.2.2)\n",
            "Requirement already satisfied: matplotlib!=3.6.1,>=3.4 in c:\\users\\user\\appdata\\local\\programs\\python\\python312\\lib\\site-packages (from seaborn) (3.9.0)\n",
            "Requirement already satisfied: contourpy>=1.0.1 in c:\\users\\user\\appdata\\local\\programs\\python\\python312\\lib\\site-packages (from matplotlib!=3.6.1,>=3.4->seaborn) (1.2.1)\n",
            "Requirement already satisfied: cycler>=0.10 in c:\\users\\user\\appdata\\local\\programs\\python\\python312\\lib\\site-packages (from matplotlib!=3.6.1,>=3.4->seaborn) (0.12.1)\n",
            "Requirement already satisfied: fonttools>=4.22.0 in c:\\users\\user\\appdata\\local\\programs\\python\\python312\\lib\\site-packages (from matplotlib!=3.6.1,>=3.4->seaborn) (4.53.0)\n",
            "Requirement already satisfied: kiwisolver>=1.3.1 in c:\\users\\user\\appdata\\local\\programs\\python\\python312\\lib\\site-packages (from matplotlib!=3.6.1,>=3.4->seaborn) (1.4.5)\n",
            "Requirement already satisfied: packaging>=20.0 in c:\\users\\user\\appdata\\roaming\\python\\python312\\site-packages (from matplotlib!=3.6.1,>=3.4->seaborn) (24.0)\n",
            "Requirement already satisfied: pillow>=8 in c:\\users\\user\\appdata\\local\\programs\\python\\python312\\lib\\site-packages (from matplotlib!=3.6.1,>=3.4->seaborn) (10.3.0)\n",
            "Requirement already satisfied: pyparsing>=2.3.1 in c:\\users\\user\\appdata\\local\\programs\\python\\python312\\lib\\site-packages (from matplotlib!=3.6.1,>=3.4->seaborn) (3.1.2)\n",
            "Requirement already satisfied: python-dateutil>=2.7 in c:\\users\\user\\appdata\\roaming\\python\\python312\\site-packages (from matplotlib!=3.6.1,>=3.4->seaborn) (2.9.0.post0)\n",
            "Requirement already satisfied: pytz>=2020.1 in c:\\users\\user\\appdata\\local\\programs\\python\\python312\\lib\\site-packages (from pandas>=1.2->seaborn) (2024.1)\n",
            "Requirement already satisfied: tzdata>=2022.7 in c:\\users\\user\\appdata\\local\\programs\\python\\python312\\lib\\site-packages (from pandas>=1.2->seaborn) (2024.1)\n",
            "Requirement already satisfied: six>=1.5 in c:\\users\\user\\appdata\\local\\programs\\python\\python312\\lib\\site-packages (from python-dateutil>=2.7->matplotlib!=3.6.1,>=3.4->seaborn) (1.16.0)\n",
            "Note: you may need to restart the kernel to use updated packages.\n",
            "Requirement already satisfied: tabulate in c:\\users\\user\\appdata\\local\\programs\\python\\python312\\lib\\site-packages (0.9.0)\n",
            "Note: you may need to restart the kernel to use updated packages.\n"
          ]
        }
      ],
      "source": [
        "%pip install numpy\n",
        "%pip install pandas\n",
        "%pip install scikit-learn\n",
        "%pip install matplotlib\n",
        "%pip install seaborn\n",
        "%pip install tabulate\n"
      ]
    },
    {
      "cell_type": "markdown",
      "metadata": {},
      "source": [
        "## Dataset description"
      ]
    },
    {
      "cell_type": "markdown",
      "metadata": {
        "id": "2bNwG06PKubR"
      },
      "source": [
        "|           Attribute            |                                       Description                                        |\n",
        "|:------------------------------:|:----------------------------------------------------------------------------------------:|\n",
        "|       1 (`engine_size`)        |                                  Engine size in liters.                                  |\n",
        "|        2 (`cylinders`)         |                            Number of cylinders in the engine.                            |\n",
        "|  3 (`fuel_consumption_city`)   | Fuel consumption of the vehicle in urban area ($\\frac{ \\text{ L } }{ 100 } \\text{ km }$) |\n",
        "| 4 (`fuel_consumption_highway`) |  Fuel consumption of the vehicle in highway ($\\frac{ \\text{ L } }{ 100 } \\text{ km }$)   |\n",
        "|      5 (`CO2_emissions`)       |         CO2 emissions of the vehicle, where $0$ means \"Low\" and $1$ means \"High\"         |"
      ]
    },
    {
      "cell_type": "code",
      "execution_count": 2265,
      "metadata": {
        "id": "YOgdpF9dKubS"
      },
      "outputs": [],
      "source": [
        "import sklearn\n",
        "import warnings\n",
        "from sklearn.exceptions import ConvergenceWarning\n",
        "\n",
        "\n",
        "warnings.filterwarnings(\"ignore\", category=ConvergenceWarning)"
      ]
    },
    {
      "cell_type": "code",
      "execution_count": 2266,
      "metadata": {
        "id": "-UsQMbbfKubT"
      },
      "outputs": [],
      "source": [
        "import pandas as pd\n",
        "\n",
        "\n",
        "source = \"data.csv\"\n",
        "data = pd.read_csv(source, sep=\",\")\n",
        "\n",
        "data.columns = [\n",
        "\t\"engine_size\",\n",
        "\t\"cylinders\",\n",
        "\t\"fuel_consumption_city\",\n",
        "\t\"fuel_consumption_highway\",\n",
        "\t\"CO2_emissions\",\n",
        "]"
      ]
    },
    {
      "cell_type": "code",
      "execution_count": 2267,
      "metadata": {
        "colab": {
          "base_uri": "https://localhost:8080/"
        },
        "id": "xoDcU3GFKubU",
        "outputId": "eecfc272-29d5-4102-cd62-610ea5e6413b"
      },
      "outputs": [
        {
          "name": "stdout",
          "output_type": "stream",
          "text": [
            "<class 'pandas.core.frame.DataFrame'>\n",
            "RangeIndex: 1067 entries, 0 to 1066\n",
            "Data columns (total 5 columns):\n",
            " #   Column                    Non-Null Count  Dtype  \n",
            "---  ------                    --------------  -----  \n",
            " 0   engine_size               1067 non-null   float64\n",
            " 1   cylinders                 1067 non-null   int64  \n",
            " 2   fuel_consumption_city     1067 non-null   float64\n",
            " 3   fuel_consumption_highway  1067 non-null   float64\n",
            " 4   CO2_emissions             1067 non-null   int64  \n",
            "dtypes: float64(3), int64(2)\n",
            "memory usage: 41.8 KB\n"
          ]
        }
      ],
      "source": [
        "data.info()"
      ]
    },
    {
      "cell_type": "markdown",
      "metadata": {
        "id": "9rCxJNk9KubU"
      },
      "source": [
        "## Quantitative variables"
      ]
    },
    {
      "cell_type": "markdown",
      "metadata": {
        "id": "bR1GKmBoKubV"
      },
      "source": [
        "### `int64`"
      ]
    },
    {
      "cell_type": "code",
      "execution_count": 2268,
      "metadata": {
        "colab": {
          "base_uri": "https://localhost:8080/",
          "height": 300
        },
        "id": "SksWhi7dKubV",
        "outputId": "5d52cc73-ce5c-4519-ea45-e2acc4236b20"
      },
      "outputs": [
        {
          "data": {
            "text/html": [
              "<div>\n",
              "<style scoped>\n",
              "    .dataframe tbody tr th:only-of-type {\n",
              "        vertical-align: middle;\n",
              "    }\n",
              "\n",
              "    .dataframe tbody tr th {\n",
              "        vertical-align: top;\n",
              "    }\n",
              "\n",
              "    .dataframe thead th {\n",
              "        text-align: right;\n",
              "    }\n",
              "</style>\n",
              "<table border=\"1\" class=\"dataframe\">\n",
              "  <thead>\n",
              "    <tr style=\"text-align: right;\">\n",
              "      <th></th>\n",
              "      <th>cylinders</th>\n",
              "      <th>CO2_emissions</th>\n",
              "    </tr>\n",
              "  </thead>\n",
              "  <tbody>\n",
              "    <tr>\n",
              "      <th>count</th>\n",
              "      <td>1067.000000</td>\n",
              "      <td>1067.000000</td>\n",
              "    </tr>\n",
              "    <tr>\n",
              "      <th>mean</th>\n",
              "      <td>5.794752</td>\n",
              "      <td>0.461106</td>\n",
              "    </tr>\n",
              "    <tr>\n",
              "      <th>std</th>\n",
              "      <td>1.797447</td>\n",
              "      <td>0.498719</td>\n",
              "    </tr>\n",
              "    <tr>\n",
              "      <th>min</th>\n",
              "      <td>3.000000</td>\n",
              "      <td>0.000000</td>\n",
              "    </tr>\n",
              "    <tr>\n",
              "      <th>25%</th>\n",
              "      <td>4.000000</td>\n",
              "      <td>0.000000</td>\n",
              "    </tr>\n",
              "    <tr>\n",
              "      <th>50%</th>\n",
              "      <td>6.000000</td>\n",
              "      <td>0.000000</td>\n",
              "    </tr>\n",
              "    <tr>\n",
              "      <th>75%</th>\n",
              "      <td>8.000000</td>\n",
              "      <td>1.000000</td>\n",
              "    </tr>\n",
              "    <tr>\n",
              "      <th>max</th>\n",
              "      <td>12.000000</td>\n",
              "      <td>1.000000</td>\n",
              "    </tr>\n",
              "  </tbody>\n",
              "</table>\n",
              "</div>"
            ],
            "text/plain": [
              "         cylinders  CO2_emissions\n",
              "count  1067.000000    1067.000000\n",
              "mean      5.794752       0.461106\n",
              "std       1.797447       0.498719\n",
              "min       3.000000       0.000000\n",
              "25%       4.000000       0.000000\n",
              "50%       6.000000       0.000000\n",
              "75%       8.000000       1.000000\n",
              "max      12.000000       1.000000"
            ]
          },
          "execution_count": 2268,
          "metadata": {},
          "output_type": "execute_result"
        }
      ],
      "source": [
        "data.select_dtypes(include=[\"int64\"]).describe()"
      ]
    },
    {
      "cell_type": "markdown",
      "metadata": {
        "id": "CX7LLNgrKubW"
      },
      "source": [
        "### `float64`"
      ]
    },
    {
      "cell_type": "code",
      "execution_count": 2269,
      "metadata": {
        "colab": {
          "base_uri": "https://localhost:8080/",
          "height": 300
        },
        "id": "KwLlxXgCKubW",
        "outputId": "02443970-5ee6-4c9d-ffd4-5ac9e6de8237"
      },
      "outputs": [
        {
          "data": {
            "text/html": [
              "<div>\n",
              "<style scoped>\n",
              "    .dataframe tbody tr th:only-of-type {\n",
              "        vertical-align: middle;\n",
              "    }\n",
              "\n",
              "    .dataframe tbody tr th {\n",
              "        vertical-align: top;\n",
              "    }\n",
              "\n",
              "    .dataframe thead th {\n",
              "        text-align: right;\n",
              "    }\n",
              "</style>\n",
              "<table border=\"1\" class=\"dataframe\">\n",
              "  <thead>\n",
              "    <tr style=\"text-align: right;\">\n",
              "      <th></th>\n",
              "      <th>engine_size</th>\n",
              "      <th>fuel_consumption_city</th>\n",
              "      <th>fuel_consumption_highway</th>\n",
              "    </tr>\n",
              "  </thead>\n",
              "  <tbody>\n",
              "    <tr>\n",
              "      <th>count</th>\n",
              "      <td>1067.000000</td>\n",
              "      <td>1067.000000</td>\n",
              "      <td>1067.000000</td>\n",
              "    </tr>\n",
              "    <tr>\n",
              "      <th>mean</th>\n",
              "      <td>3.346298</td>\n",
              "      <td>13.296532</td>\n",
              "      <td>9.474602</td>\n",
              "    </tr>\n",
              "    <tr>\n",
              "      <th>std</th>\n",
              "      <td>1.415895</td>\n",
              "      <td>4.101253</td>\n",
              "      <td>2.794510</td>\n",
              "    </tr>\n",
              "    <tr>\n",
              "      <th>min</th>\n",
              "      <td>1.000000</td>\n",
              "      <td>4.600000</td>\n",
              "      <td>4.900000</td>\n",
              "    </tr>\n",
              "    <tr>\n",
              "      <th>25%</th>\n",
              "      <td>2.000000</td>\n",
              "      <td>10.250000</td>\n",
              "      <td>7.500000</td>\n",
              "    </tr>\n",
              "    <tr>\n",
              "      <th>50%</th>\n",
              "      <td>3.400000</td>\n",
              "      <td>12.600000</td>\n",
              "      <td>8.800000</td>\n",
              "    </tr>\n",
              "    <tr>\n",
              "      <th>75%</th>\n",
              "      <td>4.300000</td>\n",
              "      <td>15.550000</td>\n",
              "      <td>10.850000</td>\n",
              "    </tr>\n",
              "    <tr>\n",
              "      <th>max</th>\n",
              "      <td>8.400000</td>\n",
              "      <td>30.200000</td>\n",
              "      <td>20.500000</td>\n",
              "    </tr>\n",
              "  </tbody>\n",
              "</table>\n",
              "</div>"
            ],
            "text/plain": [
              "       engine_size  fuel_consumption_city  fuel_consumption_highway\n",
              "count  1067.000000            1067.000000               1067.000000\n",
              "mean      3.346298              13.296532                  9.474602\n",
              "std       1.415895               4.101253                  2.794510\n",
              "min       1.000000               4.600000                  4.900000\n",
              "25%       2.000000              10.250000                  7.500000\n",
              "50%       3.400000              12.600000                  8.800000\n",
              "75%       4.300000              15.550000                 10.850000\n",
              "max       8.400000              30.200000                 20.500000"
            ]
          },
          "execution_count": 2269,
          "metadata": {},
          "output_type": "execute_result"
        }
      ],
      "source": [
        "data.select_dtypes(include=[\"float64\"]).describe()"
      ]
    },
    {
      "cell_type": "markdown",
      "metadata": {
        "id": "IZJ7dhhAKubX"
      },
      "source": [
        "## Data separation"
      ]
    },
    {
      "cell_type": "code",
      "execution_count": 2270,
      "metadata": {
        "colab": {
          "base_uri": "https://localhost:8080/"
        },
        "id": "K0x30p1GKubX",
        "outputId": "d5089070-e5b7-497d-8ae8-02b4c8f67f75"
      },
      "outputs": [
        {
          "name": "stdout",
          "output_type": "stream",
          "text": [
            "1067 853 214\n"
          ]
        }
      ],
      "source": [
        "from sklearn.model_selection import train_test_split\n",
        "\n",
        "\n",
        "total = len(data)\n",
        "train = int(total * 0.8)\n",
        "test = total - train\n",
        "print(total, train, test)\n",
        "\n",
        "train_data, test_data = sklearn.model_selection.train_test_split(data, train_size=train, test_size=test, random_state=123)\n",
        "\n"
      ]
    },
    {
      "cell_type": "code",
      "execution_count": 2271,
      "metadata": {
        "colab": {
          "base_uri": "https://localhost:8080/"
        },
        "id": "OS33NsKIKubX",
        "outputId": "b593bb23-14d1-4e3c-c2b1-afdbeb23572d"
      },
      "outputs": [
        {
          "name": "stdout",
          "output_type": "stream",
          "text": [
            "(853, 5)\n",
            "<class 'pandas.core.frame.DataFrame'>\n",
            "Index: 853 entries, 84 to 1041\n",
            "Data columns (total 5 columns):\n",
            " #   Column                    Non-Null Count  Dtype  \n",
            "---  ------                    --------------  -----  \n",
            " 0   engine_size               853 non-null    float64\n",
            " 1   cylinders                 853 non-null    int64  \n",
            " 2   fuel_consumption_city     853 non-null    float64\n",
            " 3   fuel_consumption_highway  853 non-null    float64\n",
            " 4   CO2_emissions             853 non-null    int64  \n",
            "dtypes: float64(3), int64(2)\n",
            "memory usage: 40.0 KB\n"
          ]
        }
      ],
      "source": [
        "print(train_data.shape)\n",
        "train_data.info()"
      ]
    },
    {
      "cell_type": "markdown",
      "metadata": {
        "id": "oUeDKCumKubY"
      },
      "source": [
        "## Pipelining"
      ]
    },
    {
      "cell_type": "markdown",
      "metadata": {
        "id": "RTWjjsURKubY"
      },
      "source": [
        "### Numeric attributes (pipeline)"
      ]
    },
    {
      "cell_type": "code",
      "execution_count": 2272,
      "metadata": {
        "id": "-M01KmPfKubY"
      },
      "outputs": [],
      "source": [
        "from sklearn.impute import SimpleImputer\n",
        "from sklearn.pipeline import Pipeline\n",
        "from sklearn.preprocessing import StandardScaler\n",
        "\n",
        "\n",
        "numeric_attributes = [\n",
        "\t\"engine_size\",\n",
        "\t\"cylinders\",\n",
        "\t\"fuel_consumption_city\",\n",
        "\t\"fuel_consumption_highway\"\n",
        "]\n",
        "\n",
        "numeric_pipeline = Pipeline([\n",
        "\t\t\t\t\t\t(\"imputer\", SimpleImputer(strategy=\"median\")),\n",
        "\t\t\t\t\t\t(\"scaler\", StandardScaler())\n",
        "\t\t\t\t\t])"
      ]
    },
    {
      "cell_type": "markdown",
      "metadata": {
        "id": "cprsdR_0KubY"
      },
      "source": [
        "### Full pipeline"
      ]
    },
    {
      "cell_type": "code",
      "execution_count": 2273,
      "metadata": {
        "id": "srEulojOKubY"
      },
      "outputs": [],
      "source": [
        "from sklearn.compose import ColumnTransformer\n",
        "\n",
        "\n",
        "full_pipeline = ColumnTransformer([\n",
        "\t\t\t\t\t(\"num\", numeric_pipeline, numeric_attributes)\n",
        "\t\t\t\t])"
      ]
    },
    {
      "cell_type": "code",
      "execution_count": 2274,
      "metadata": {
        "id": "QtMbqW8YKubY"
      },
      "outputs": [],
      "source": [
        "x_train = full_pipeline.fit_transform(train_data)\n",
        "y_train = train_data[\"CO2_emissions\"]\n",
        "\n",
        "x_test = full_pipeline.transform(test_data)\n",
        "y_test = test_data[\"CO2_emissions\"]"
      ]
    },
    {
      "cell_type": "markdown",
      "metadata": {},
      "source": [
        "## Models"
      ]
    },
    {
      "cell_type": "code",
      "execution_count": 2275,
      "metadata": {},
      "outputs": [
        {
          "name": "stdout",
          "output_type": "stream",
          "text": [
            "[('gini', 'best', 1), ('gini', 'best', 2), ('gini', 'best', 3), ('gini', 'best', 4), ('gini', 'best', 5), ('gini', 'best', 6), ('gini', 'best', 7), ('gini', 'best', 8), ('gini', 'best', 9), ('gini', 'best', 10), ('entropy', 'best', 1), ('entropy', 'best', 2), ('entropy', 'best', 3), ('entropy', 'best', 4), ('entropy', 'best', 5), ('entropy', 'best', 6), ('entropy', 'best', 7), ('entropy', 'best', 8), ('entropy', 'best', 9), ('entropy', 'best', 10), ('entropy', 'random', 1), ('entropy', 'random', 2), ('entropy', 'random', 3), ('entropy', 'random', 4), ('entropy', 'random', 5), ('entropy', 'random', 6), ('entropy', 'random', 7), ('entropy', 'random', 8), ('entropy', 'random', 9), ('entropy', 'random', 10)]\n"
          ]
        }
      ],
      "source": [
        "criterions = [\"gini\", \"entropy\"]\n",
        "splitters = [\"best\", \"random\"]\n",
        "max_depths = range(1, 11)\n",
        "\n",
        "models = [(criterion, splitter, depth) \n",
        "          for criterion in criterions \n",
        "          for splitter in splitters if not (criterion == \"gini\" and splitter == \"random\")\n",
        "          for depth in max_depths]\n",
        "\n",
        "print(models)"
      ]
    },
    {
      "cell_type": "code",
      "execution_count": 2276,
      "metadata": {
        "id": "SgyifNwWKubZ"
      },
      "outputs": [],
      "source": [
        "from sklearn.tree import DecisionTreeClassifier\n",
        "from sklearn.metrics import accuracy_score\n",
        "\n",
        "models_results = []\n",
        "\n",
        "for criterion, splitter, max_depth in models:\n",
        "    model = DecisionTreeClassifier(criterion=criterion, splitter=splitter, max_depth=max_depth, random_state=123)\n",
        "    model.fit(x_train, y_train)\n",
        "\n",
        "    y_pred = model.predict(x_test)\n",
        "    accuracy = accuracy_score(y_test, y_pred)\n",
        "\n",
        "    models_results.append((criterion, splitter, max_depth, accuracy))"
      ]
    },
    {
      "cell_type": "markdown",
      "metadata": {
        "id": "-nSWcnSNKubZ"
      },
      "source": [
        "## Results (models)"
      ]
    },
    {
      "cell_type": "code",
      "execution_count": 2277,
      "metadata": {
        "colab": {
          "base_uri": "https://localhost:8080/"
        },
        "id": "F8ZmQPPTKubZ",
        "outputId": "9314b210-e919-4767-cd71-3777ab38463c"
      },
      "outputs": [
        {
          "name": "stdout",
          "output_type": "stream",
          "text": [
            "   Criterion Splitter  Max Depth  Accuracy\n",
            "0       gini     best          1  0.948598\n",
            "1       gini     best          2  0.943925\n",
            "2       gini     best          3  0.943925\n",
            "3       gini     best          4  0.939252\n",
            "4       gini     best          5  0.962617\n",
            "5       gini     best          6  0.953271\n",
            "6       gini     best          7  0.953271\n",
            "7       gini     best          8  0.957944\n",
            "8       gini     best          9  0.957944\n",
            "9       gini     best         10  0.957944\n",
            "10   entropy     best          1  0.948598\n",
            "11   entropy     best          2  0.953271\n",
            "12   entropy     best          3  0.948598\n",
            "13   entropy     best          4  0.943925\n",
            "14   entropy     best          5  0.967290\n",
            "15   entropy     best          6  0.957944\n",
            "16   entropy     best          7  0.957944\n",
            "17   entropy     best          8  0.962617\n",
            "18   entropy     best          9  0.962617\n",
            "19   entropy     best         10  0.962617\n",
            "20   entropy   random          1  0.813084\n",
            "21   entropy   random          2  0.813084\n",
            "22   entropy   random          3  0.925234\n",
            "23   entropy   random          4  0.845794\n",
            "24   entropy   random          5  0.855140\n",
            "25   entropy   random          6  0.929907\n",
            "26   entropy   random          7  0.864486\n",
            "27   entropy   random          8  0.948598\n",
            "28   entropy   random          9  0.934579\n",
            "29   entropy   random         10  0.939252\n"
          ]
        }
      ],
      "source": [
        "results_df = pd.DataFrame(models_results, columns=[\"Criterion\", \"Splitter\", \"Max Depth\", \"Accuracy\"])\n",
        "print(results_df)"
      ]
    },
    {
      "cell_type": "markdown",
      "metadata": {},
      "source": [
        "### Gini - Best\n"
      ]
    },
    {
      "cell_type": "code",
      "execution_count": 2278,
      "metadata": {},
      "outputs": [
        {
          "name": "stdout",
          "output_type": "stream",
          "text": [
            "  Criterion Splitter  Max Depth  Accuracy\n",
            "0      gini     best          1  0.948598\n",
            "1      gini     best          2  0.943925\n",
            "2      gini     best          3  0.943925\n",
            "3      gini     best          4  0.939252\n",
            "4      gini     best          5  0.962617\n",
            "5      gini     best          6  0.953271\n",
            "6      gini     best          7  0.953271\n",
            "7      gini     best          8  0.957944\n",
            "8      gini     best          9  0.957944\n",
            "9      gini     best         10  0.957944\n"
          ]
        }
      ],
      "source": [
        "gini_best = results_df[(results_df['Criterion'] == 'gini') & (results_df['Splitter'] == 'best')]\n",
        "\n",
        "print(gini_best)"
      ]
    },
    {
      "cell_type": "markdown",
      "metadata": {},
      "source": [
        "### Entropy - Best"
      ]
    },
    {
      "cell_type": "code",
      "execution_count": 2279,
      "metadata": {},
      "outputs": [
        {
          "name": "stdout",
          "output_type": "stream",
          "text": [
            "   Criterion Splitter  Max Depth  Accuracy\n",
            "10   entropy     best          1  0.948598\n",
            "11   entropy     best          2  0.953271\n",
            "12   entropy     best          3  0.948598\n",
            "13   entropy     best          4  0.943925\n",
            "14   entropy     best          5  0.967290\n",
            "15   entropy     best          6  0.957944\n",
            "16   entropy     best          7  0.957944\n",
            "17   entropy     best          8  0.962617\n",
            "18   entropy     best          9  0.962617\n",
            "19   entropy     best         10  0.962617\n"
          ]
        }
      ],
      "source": [
        "entropy_best = results_df[(results_df['Criterion'] == 'entropy') & (results_df['Splitter'] == 'best')]\n",
        "\n",
        "print(entropy_best)"
      ]
    },
    {
      "cell_type": "markdown",
      "metadata": {},
      "source": [
        "### Entropy - Random"
      ]
    },
    {
      "cell_type": "code",
      "execution_count": 2280,
      "metadata": {},
      "outputs": [
        {
          "name": "stdout",
          "output_type": "stream",
          "text": [
            "   Criterion Splitter  Max Depth  Accuracy\n",
            "20   entropy   random          1  0.813084\n",
            "21   entropy   random          2  0.813084\n",
            "22   entropy   random          3  0.925234\n",
            "23   entropy   random          4  0.845794\n",
            "24   entropy   random          5  0.855140\n",
            "25   entropy   random          6  0.929907\n",
            "26   entropy   random          7  0.864486\n",
            "27   entropy   random          8  0.948598\n",
            "28   entropy   random          9  0.934579\n",
            "29   entropy   random         10  0.939252\n"
          ]
        }
      ],
      "source": [
        "entropy_random = results_df[(results_df['Criterion'] == 'entropy') & (results_df['Splitter'] == 'random')]\n",
        "\n",
        "print(entropy_random)"
      ]
    },
    {
      "cell_type": "markdown",
      "metadata": {},
      "source": [
        "## Best Model."
      ]
    },
    {
      "cell_type": "code",
      "execution_count": 2281,
      "metadata": {},
      "outputs": [
        {
          "name": "stdout",
          "output_type": "stream",
          "text": [
            "Best Model:\n"
          ]
        },
        {
          "data": {
            "text/html": [
              "<div>\n",
              "<style scoped>\n",
              "    .dataframe tbody tr th:only-of-type {\n",
              "        vertical-align: middle;\n",
              "    }\n",
              "\n",
              "    .dataframe tbody tr th {\n",
              "        vertical-align: top;\n",
              "    }\n",
              "\n",
              "    .dataframe thead th {\n",
              "        text-align: right;\n",
              "    }\n",
              "</style>\n",
              "<table border=\"1\" class=\"dataframe\">\n",
              "  <thead>\n",
              "    <tr style=\"text-align: right;\">\n",
              "      <th></th>\n",
              "      <th>Criterion</th>\n",
              "      <th>Splitter</th>\n",
              "      <th>Max Depth</th>\n",
              "      <th>Accuracy</th>\n",
              "    </tr>\n",
              "  </thead>\n",
              "  <tbody>\n",
              "    <tr>\n",
              "      <th>0</th>\n",
              "      <td>entropy</td>\n",
              "      <td>best</td>\n",
              "      <td>5</td>\n",
              "      <td>0.96729</td>\n",
              "    </tr>\n",
              "  </tbody>\n",
              "</table>\n",
              "</div>"
            ],
            "text/plain": [
              "  Criterion Splitter  Max Depth  Accuracy\n",
              "0   entropy     best          5   0.96729"
            ]
          },
          "metadata": {},
          "output_type": "display_data"
        }
      ],
      "source": [
        "import pandas as pd\n",
        "from IPython.display import display\n",
        "\n",
        "# Found the best tree\n",
        "best_tree_idx = results_df['Accuracy'].idxmax()\n",
        "best_tree = results_df.loc[best_tree_idx]\n",
        "\n",
        "# Values\n",
        "best_criterion = best_tree['Criterion']\n",
        "best_splitter = best_tree['Splitter']\n",
        "best_max_depth = best_tree['Max Depth']\n",
        "best_accuracy = best_tree['Accuracy']\n",
        "\n",
        "\n",
        "best_params_df = pd.DataFrame({\n",
        "    'Criterion': [best_criterion],\n",
        "    'Splitter': [best_splitter],\n",
        "    'Max Depth': [best_max_depth],\n",
        "    'Accuracy': [best_accuracy]\n",
        "})\n",
        "\n",
        "\n",
        "print(\"Best Model:\")\n",
        "display(best_params_df)\n"
      ]
    },
    {
      "cell_type": "markdown",
      "metadata": {},
      "source": [
        "##  New Hyperparameter (max_leaf_nodes)"
      ]
    },
    {
      "cell_type": "code",
      "execution_count": 2282,
      "metadata": {},
      "outputs": [
        {
          "name": "stdout",
          "output_type": "stream",
          "text": [
            "Max Leaf Nodes\tAccuracy\n",
            "2\t\t0.9486\n",
            "3\t\t0.9486\n",
            "4\t\t0.9533\n",
            "5\t\t0.9486\n",
            "6\t\t0.9486\n",
            "7\t\t0.9720\n",
            "8\t\t0.9720\n",
            "9\t\t0.9720\n",
            "10\t\t0.9720\n",
            "11\t\t0.9720\n",
            "12\t\t0.9720\n",
            "13\t\t0.9673\n"
          ]
        },
        {
          "data": {
            "image/png": "[encoded data removed]",
            "text/plain": [
              "<Figure size 1200x600 with 1 Axes>"
            ]
          },
          "metadata": {},
          "output_type": "display_data"
        }
      ],
      "source": [
        "import matplotlib.pyplot as plt\n",
        "import numpy as np\n",
        "\n",
        "\n",
        "# Define the initial values\n",
        "max_leaf_nodes = 2\n",
        "maxAccuracy = 0\n",
        "max_leaf_nodes_values = []\n",
        "accuracy_values = []\n",
        "comparison_results = []\n",
        "\n",
        "while True:\n",
        "    # Create and fit the model with the current value of max_leaf_nodes\n",
        "    clf = DecisionTreeClassifier(criterion=best_criterion, splitter=best_splitter, max_depth=best_max_depth, max_leaf_nodes=max_leaf_nodes, random_state=123)\n",
        "    clf.fit(x_train, y_train)\n",
        "    \n",
        "    # Predict and calculate accuracy\n",
        "    y_pred = clf.predict(x_test)\n",
        "    accuracy = accuracy_score(y_test, y_pred)\n",
        "    \n",
        "    # Add values to the lists\n",
        "    max_leaf_nodes_values.append(max_leaf_nodes)\n",
        "    accuracy_values.append(accuracy)\n",
        "\n",
        "    # Compare with the previous best accuracy and update the comparison results list\n",
        "    if accuracy > best_accuracy:\n",
        "        comparison_results.append('Improve')\n",
        "    elif accuracy < best_accuracy:\n",
        "        comparison_results.append('Decline')\n",
        "    else:\n",
        "        comparison_results.append('Maintains')\n",
        "    \n",
        "    # Exit the loop if the accuracy doesn't improve for several values of max_leaf_nodes\n",
        "    if accuracy <= best_accuracy and max_leaf_nodes > 12:\n",
        "        break\n",
        "    \n",
        "    # Update the best accuracy and the best number of leaf nodes\n",
        "    if accuracy > best_accuracy:\n",
        "        maxAccuracy = accuracy\n",
        "        best_max_leaf_nodes = max_leaf_nodes\n",
        "    \n",
        "    # Increase the value of max_leaf_nodes to try the next one\n",
        "    max_leaf_nodes += 1\n",
        "\n",
        "# Convert lists to numpy arrays\n",
        "max_leaf_nodes_values = np.array(max_leaf_nodes_values)\n",
        "accuracy_values = np.array(accuracy_values)\n",
        "\n",
        "# Print the results\n",
        "print(\"Max Leaf Nodes\\tAccuracy\")\n",
        "for i in range(min(15, len(max_leaf_nodes_values))):\n",
        "    print(f\"{max_leaf_nodes_values[i]}\\t\\t{accuracy_values[i]:.4f}\")\n",
        "\n",
        "# Graph\n",
        "plt.figure(figsize=(12, 6))\n",
        "plt.plot(max_leaf_nodes_values, accuracy_values, marker='o', linestyle='-', label='Accuracy vs Max Leaf Nodes')\n",
        "plt.xlabel('Max Leaf Nodes')\n",
        "plt.ylabel('Accuracy')\n",
        "plt.title('Accuracy vs Max Leaf Nodes')\n",
        "plt.axvline(x=6, color='r', linestyle='--', label='Improve accuracy when Max Leaf Nodes > 6')\n",
        "plt.legend()\n",
        "plt.grid(True)\n",
        "plt.show()\n",
        "\n"
      ]
    },
    {
      "cell_type": "markdown",
      "metadata": {},
      "source": [
        "### Graphic\n"
      ]
    },
    {
      "cell_type": "code",
      "execution_count": 2283,
      "metadata": {},
      "outputs": [
        {
          "data": {
            "image/png": "[encoded data removed]",
            "text/plain": [
              "<Figure size 800x500 with 1 Axes>"
            ]
          },
          "metadata": {},
          "output_type": "display_data"
        },
        {
          "name": "stdout",
          "output_type": "stream",
          "text": [
            "Comparison of Max Leaf Nodes:\n",
            "  Max Leaf Nodes    Accuracy  Result\n",
            "----------------  ----------  --------\n",
            "               2    0.948598  Decline\n",
            "               4    0.953271  Decline\n",
            "               7    0.971963  Improve\n"
          ]
        }
      ],
      "source": [
        "import matplotlib.pyplot as plt\n",
        "import matplotlib.patches as mpatches\n",
        "from tabulate import tabulate\n",
        "\n",
        "# Define the specific values of max_leaf_nodes\n",
        "specific_max_leaf_nodes = [2, 4, 7]\n",
        "\n",
        "color_map = {'Improve': 'green', 'Decline': 'red', 'Maintains': 'gray'}\n",
        "plt.figure(figsize=(8, 5))\n",
        "\n",
        "# Iterate over the specific values of max_leaf_nodes\n",
        "for node in specific_max_leaf_nodes:\n",
        "    index = np.where(max_leaf_nodes_values == node)[0]\n",
        "    color = color_map[comparison_results[index[0]]]\n",
        "    plt.bar(node, accuracy_values[index[0]], color=color, label=f'Max Leaf Nodes = {node}')\n",
        "\n",
        "#Graph\n",
        "plt.axhline(y=best_accuracy, color='blue', linestyle='--', label=f'Accuracy = {best_accuracy:.4f}')\n",
        "plt.xlabel('Max Leaf Nodes')\n",
        "plt.ylabel('Accuracy')\n",
        "plt.title('Impact of Max Leaf Nodes on Accuracy')\n",
        "plt.ylim(0.9, 1.0)\n",
        "legend_colors = [mpatches.Patch(color=color, label=label) for label, color in color_map.items()]\n",
        "plt.legend(handles=legend_colors)\n",
        "plt.show()\n",
        "\n",
        "# Create a list of tuples with the comparison information\n",
        "comparison_info = [(node, accuracy_values[index], comparison_results[index]) for node, index in zip(specific_max_leaf_nodes, [np.where(max_leaf_nodes_values == node)[0][0] for node in specific_max_leaf_nodes])]\n",
        "\n",
        "# Print the information\n",
        "print(\"Comparison of Max Leaf Nodes:\")\n",
        "print(tabulate(comparison_info, headers=[\"Max Leaf Nodes\", \"Accuracy\", \"Result\"]))\n"
      ]
    }
  ],
  "metadata": {
    "colab": {
      "provenance": [],
      "toc_visible": true
    },
    "kernelspec": {
      "display_name": "Python 3 (ipykernel)",
      "language": "python",
      "name": "python3"
    },
    "language_info": {
      "codemirror_mode": {
        "name": "ipython",
        "version": 3
      },
      "file_extension": ".py",
      "mimetype": "text/x-python",
      "name": "python",
      "nbconvert_exporter": "python",
      "pygments_lexer": "ipython3",
      "version": "3.12.3"
    }
  },
  "nbformat": 4,
  "nbformat_minor": 0
}
